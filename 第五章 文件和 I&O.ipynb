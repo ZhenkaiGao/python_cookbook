{
 "cells": [
  {
   "cell_type": "markdown",
   "id": "e12b3790",
   "metadata": {},
   "source": [
    "# 1. 读写文本"
   ]
  },
  {
   "cell_type": "markdown",
   "id": "25cb5803",
   "metadata": {},
   "source": [
    "## 1.1 使用 open() 读取"
   ]
  },
  {
   "cell_type": "markdown",
   "id": "fddf9ae0",
   "metadata": {},
   "source": [
    "- rt 模式：读取\n",
    "- wt 模式：写入\n",
    "- at 模式：追加"
   ]
  },
  {
   "cell_type": "markdown",
   "id": "0e8aab8f",
   "metadata": {},
   "source": [
    "```python\n",
    "with open('somefile.txt', 'rt') as f:\n",
    "    data = f.read()\n",
    "    ...\n",
    "```\n",
    "\n",
    "```python\n",
    "with open('somefile.txt', 'wt') as f:\n",
    "    f.write(text1)\n",
    "    f.write(text2)\n",
    "    ...\n",
    "```"
   ]
  },
  {
   "cell_type": "markdown",
   "id": "55bd69f6",
   "metadata": {},
   "source": [
    "## 1.2 使用 sys.getdefaultendoding() 查询默认的文本编码方式"
   ]
  },
  {
   "cell_type": "markdown",
   "id": "851e9607",
   "metadata": {},
   "source": [
    "```python\n",
    "with open('somefile.txt', 'rt', encoding='latin-1') as f:\n",
    "    ...\n",
    "```"
   ]
  },
  {
   "cell_type": "markdown",
   "id": "aec8d831",
   "metadata": {},
   "source": [
    "## 1.3 不使用 with 语句"
   ]
  },
  {
   "cell_type": "markdown",
   "id": "924a4198",
   "metadata": {},
   "source": [
    "with 语句会创建一个上下文环境（context），当程序的控制流程离开 with 语句块后，文件将自动关闭。\n",
    "\n",
    "不使用 with 语句需要手动关闭。"
   ]
  },
  {
   "cell_type": "markdown",
   "id": "9874975b",
   "metadata": {},
   "source": [
    "```python\n",
    "f = open('somefile.txt', 'rt')\n",
    "data = f.read()\n",
    "f.close()\n",
    "```"
   ]
  },
  {
   "cell_type": "markdown",
   "id": "2f736462",
   "metadata": {},
   "source": [
    "## 1.4 换行符"
   ]
  },
  {
   "cell_type": "markdown",
   "id": "02848488",
   "metadata": {},
   "source": [
    "在 UNIX 和 Windows 中换行符 \\n 和 \\r\\n\n",
    "\n",
    "Python 工作在“通用型换行符”模式下，会将换行符转换成 \\n 字符；将 \\n 转换成当前系统的默认换行符。如果不想要这种“翻译”，可以给 open() 函数提供 newline=''的参数\n",
    "\n",
    "```python\n",
    "f = open('hello.txt', 'rt')\n",
    "f.read()\n",
    "```"
   ]
  },
  {
   "cell_type": "markdown",
   "id": "4d402bf4",
   "metadata": {},
   "source": [
    "# 2. 输出重定向"
   ]
  },
  {
   "cell_type": "markdown",
   "id": "2be156ad",
   "metadata": {},
   "source": [
    "为 print() 函数加上 file 关键字参数，可以将输出重定向到一个文件中\n",
    "\n",
    "要确保文件是以文本模式打开，如果是以二进制模式打开，打印会失败\n",
    "\n",
    "```python\n",
    "with open('somefile.txt', 'rt') as f:\n",
    "    print('Hello World!', filw=f)\n",
    "```"
   ]
  },
  {
   "cell_type": "markdown",
   "id": "b62335ca",
   "metadata": {},
   "source": [
    "# 3. 以不同的分隔符或行结尾符打印"
   ]
  },
  {
   "cell_type": "markdown",
   "id": "8d432c2c",
   "metadata": {},
   "source": [
    "修改分隔符或行结尾符"
   ]
  },
  {
   "cell_type": "code",
   "execution_count": 1,
   "id": "8355e176",
   "metadata": {},
   "outputs": [
    {
     "name": "stdout",
     "output_type": "stream",
     "text": [
      "ACME,50,91.5!!\n"
     ]
    }
   ],
   "source": [
    "print('ACME', 50, 91.5, sep=',', end='!!\\n')"
   ]
  },
  {
   "cell_type": "markdown",
   "id": "0faa99ff",
   "metadata": {},
   "source": [
    "\n",
    "使用 str.join() 也可以实现同样的效果，但 str.join() 只能处理字符串"
   ]
  },
  {
   "cell_type": "code",
   "execution_count": 2,
   "id": "3feebca7",
   "metadata": {},
   "outputs": [
    {
     "name": "stdout",
     "output_type": "stream",
     "text": [
      "ACME,50,91.5\n"
     ]
    }
   ],
   "source": [
    "row = ('ACME', 50, 91.5)\n",
    "print(','.join(str(x) for x in row))"
   ]
  },
  {
   "cell_type": "markdown",
   "id": "f424b6d9",
   "metadata": {},
   "source": [
    "# 4. 读写二进制"
   ]
  },
  {
   "cell_type": "markdown",
   "id": "60c73808",
   "metadata": {},
   "source": [
    "## 4.1 直接读写"
   ]
  },
  {
   "cell_type": "markdown",
   "id": "10afaa80",
   "metadata": {},
   "source": [
    "可以使用 rb 或 wb 模式对二进制数据进行读写\n",
    "\n",
    "读取二进制数据时，所有的数据将以字节串（byte string）的形式返回。\n",
    "\n",
    "同样地，当写入二进制数据时，数据必须以对象的形式来提供，且该对象可以将数据以字节形式暴露出来（即，字节串、bytearray对象等）\n",
    "\n",
    "```python\n",
    "with open('somefile.bin', 'rb') as f:\n",
    "    data = f.read()\n",
    "```\n",
    "\n",
    "```python\n",
    "with open('somefile.bin', 'wb') as f:\n",
    "    f.write(b'Hello World!')\n",
    "```\n",
    "\n",
    "在做索引和迭代操作时，字符串会返回代表该字节的整数值而不是字符串"
   ]
  },
  {
   "cell_type": "code",
   "execution_count": 3,
   "id": "6f0c99f8",
   "metadata": {},
   "outputs": [
    {
     "data": {
      "text/plain": [
       "'H'"
      ]
     },
     "execution_count": 3,
     "metadata": {},
     "output_type": "execute_result"
    }
   ],
   "source": [
    "t = 'Hello World'\n",
    "t[0]"
   ]
  },
  {
   "cell_type": "code",
   "execution_count": 4,
   "id": "b8296a54",
   "metadata": {},
   "outputs": [
    {
     "data": {
      "text/plain": [
       "72"
      ]
     },
     "execution_count": 4,
     "metadata": {},
     "output_type": "execute_result"
    }
   ],
   "source": [
    "b = b'Hello World'\n",
    "b[0]"
   ]
  },
  {
   "cell_type": "code",
   "execution_count": 5,
   "id": "894dbcc7",
   "metadata": {},
   "outputs": [
    {
     "name": "stdout",
     "output_type": "stream",
     "text": [
      "72\n",
      "101\n",
      "108\n",
      "108\n",
      "111\n",
      "32\n",
      "87\n",
      "111\n",
      "114\n",
      "108\n",
      "100\n"
     ]
    }
   ],
   "source": [
    "for c in b:\n",
    "    print(c)"
   ]
  },
  {
   "cell_type": "markdown",
   "id": "a579bd64",
   "metadata": {},
   "source": [
    "## 4.2 读写文本内容"
   ]
  },
  {
   "cell_type": "markdown",
   "id": "fd907c96",
   "metadata": {},
   "source": [
    "如果在二进制文件中读取或写入文本内容，需要编码或解码操作"
   ]
  },
  {
   "cell_type": "markdown",
   "id": "5957640a",
   "metadata": {},
   "source": [
    "```python\n",
    "with open('somefile.bin', 'rb') as f:\n",
    "    data = f.read(16)\n",
    "    text = data.decode('utf-8')\n",
    "```\n",
    "\n",
    "```python\n",
    "with open('somefile.bin', 'wb') as f:\n",
    "    text = 'Hello World'\n",
    "    f.write(text.encode('utf-8'))\n",
    "```"
   ]
  },
  {
   "cell_type": "markdown",
   "id": "94092785",
   "metadata": {},
   "source": [
    "## 4.3 读写内存"
   ]
  },
  {
   "cell_type": "markdown",
   "id": "8906c3f0",
   "metadata": {},
   "source": [
    "数组和 C 结构体这样的对象可以直接用来进行写操作，而不必将其转换为 byte 对象。这种行为可适用于任何实现了“缓冲区接口（buffer interface）”的对象，该接口直接将对象底层的内存缓冲区暴露给可以在其上进行的操作。"
   ]
  },
  {
   "cell_type": "markdown",
   "id": "ad970185",
   "metadata": {},
   "source": [
    "```python\n",
    "import array\n",
    "nums = array.array('i', [1, 2, 3, 4])\n",
    "with open('data.bin', 'wb) as f:\n",
    "          f.write(nums)\n",
    "```"
   ]
  },
  {
   "cell_type": "markdown",
   "id": "2b894b1e",
   "metadata": {},
   "source": [
    "对于支持将二进制数据读入到它们的底层的内存中的对象，可以使用文件对象的 readinto() 方法。但这常常与平台特性相关，且可能依赖于字（word）的大小和字节序（即大端和小端）等属性。"
   ]
  },
  {
   "cell_type": "markdown",
   "id": "421cb9c6",
   "metadata": {},
   "source": [
    "```python\n",
    "import array\n",
    "a = array.array('i', [0, 0, 0, 0, 0, 0, 0, 0])\n",
    "with open('data.bin', 'rb') as f:\n",
    "    f.readinto(a)\n",
    "```"
   ]
  },
  {
   "cell_type": "markdown",
   "id": "485a74c2",
   "metadata": {},
   "source": [
    "# 5. 对不存在的文件执行写入操作"
   ]
  },
  {
   "cell_type": "markdown",
   "id": "d4c93593",
   "metadata": {},
   "source": [
    "使用 open() 函数中 x 模式代替 w 模式（仅Python3）\n",
    "\n",
    "如果文件是二进制的，用 xb 模式代替 xt  即可\n",
    "\n",
    "```python\n",
    "with open('somefile', 'wt') as f:\n",
    "    f.write('Hello\\n')\n",
    "```\n",
    "\n",
    "```python\n",
    "with open('somefile', 'xt') as f:\n",
    "    f.write('Hello\\n')\n",
    "```"
   ]
  },
  {
   "cell_type": "markdown",
   "id": "54f3a641",
   "metadata": {},
   "source": [
    "# 6. 字符串 I/O 操作"
   ]
  },
  {
   "cell_type": "markdown",
   "id": "de83bdb3",
   "metadata": {},
   "source": [
    "将一段文本或二进制字符串写入类似文件的对象上\n",
    "\n",
    "使用 io.StringIO() 和 io.BytesIO() 类创建类似于文件的对象\n",
    "\n",
    "使用 s.write 和 print('', file= ) 写入"
   ]
  },
  {
   "cell_type": "code",
   "execution_count": 8,
   "id": "5d94cc21",
   "metadata": {},
   "outputs": [],
   "source": [
    "import io"
   ]
  },
  {
   "cell_type": "code",
   "execution_count": 13,
   "id": "9d3d7e77",
   "metadata": {},
   "outputs": [
    {
     "data": {
      "text/plain": [
       "12"
      ]
     },
     "execution_count": 13,
     "metadata": {},
     "output_type": "execute_result"
    }
   ],
   "source": [
    "s = io.StringIO()\n",
    "s.write('Hello World\\n')"
   ]
  },
  {
   "cell_type": "code",
   "execution_count": 14,
   "id": "27e51b82",
   "metadata": {},
   "outputs": [],
   "source": [
    "print('This is a test', file=s)"
   ]
  },
  {
   "cell_type": "markdown",
   "id": "d4a310b4",
   "metadata": {},
   "source": [
    "使用 s.getvalue() 和 s.read() 读出"
   ]
  },
  {
   "cell_type": "code",
   "execution_count": 15,
   "id": "8532872a",
   "metadata": {},
   "outputs": [
    {
     "data": {
      "text/plain": [
       "'Hello World\\nThis is a test\\n'"
      ]
     },
     "execution_count": 15,
     "metadata": {},
     "output_type": "execute_result"
    }
   ],
   "source": [
    "s.getvalue()"
   ]
  },
  {
   "cell_type": "code",
   "execution_count": 17,
   "id": "cfe2197f",
   "metadata": {},
   "outputs": [
    {
     "data": {
      "text/plain": [
       "'Hell'"
      ]
     },
     "execution_count": 17,
     "metadata": {},
     "output_type": "execute_result"
    }
   ],
   "source": [
    "s = io.StringIO('Hello\\nWorld\\n')\n",
    "s.read(4)"
   ]
  },
  {
   "cell_type": "code",
   "execution_count": 18,
   "id": "49ee7a3a",
   "metadata": {},
   "outputs": [
    {
     "data": {
      "text/plain": [
       "'o\\nWorld\\n'"
      ]
     },
     "execution_count": 18,
     "metadata": {},
     "output_type": "execute_result"
    }
   ],
   "source": [
    "s.read()"
   ]
  },
  {
   "cell_type": "markdown",
   "id": "15f215e3",
   "metadata": {},
   "source": [
    "StringIO 和 BytesIO 是模拟一个普通文件，例如创建一个文件型对象，但五法工作在一个需要真正系统级文件的环境中"
   ]
  },
  {
   "cell_type": "markdown",
   "id": "3e36276c",
   "metadata": {},
   "source": [
    "# 7. 读写压缩文件"
   ]
  },
  {
   "cell_type": "markdown",
   "id": "76b38762",
   "metadata": {},
   "source": [
    "读写使用 gzip 或 bz2 格式压缩过文件的数据\n",
    "\n",
    "I/O 操作采用文本形式并执行 Unicode 编码和解码，二进制数据用 rb 或 wb\n",
    "\n",
    "如果没有指定模式，默认使用二进制。支持 encoding, errors, newline 等关键字参数"
   ]
  },
  {
   "cell_type": "code",
   "execution_count": 19,
   "id": "56a801f8",
   "metadata": {},
   "outputs": [],
   "source": [
    "import gzip\n",
    "import bz2"
   ]
  },
  {
   "cell_type": "markdown",
   "id": "5b2b96ff",
   "metadata": {},
   "source": [
    "将压缩文件以文本形式读出"
   ]
  },
  {
   "cell_type": "markdown",
   "id": "7a5722a3",
   "metadata": {},
   "source": [
    "```python\n",
    "with gzip.open('somefile.gz', 'rt') as f:\n",
    "    text = f.read()\n",
    "```\n",
    "\n",
    "```python\n",
    "with bz2.open('somefile.bz2', 'rt') as f:\n",
    "    text = f.read()\n",
    "```"
   ]
  },
  {
   "cell_type": "markdown",
   "id": "7240806b",
   "metadata": {},
   "source": [
    "写入压缩数据"
   ]
  },
  {
   "cell_type": "markdown",
   "id": "6e5aa4d9",
   "metadata": {},
   "source": [
    "```python\n",
    "with gzip.open('somefile.gz', 'wt') as f:\n",
    "    f.write(text)\n",
    "```\n",
    "\n",
    "```python\n",
    "with bz2.open('somefile.bz2', 'wt') as f:\n",
    "    f.write(text)\n",
    "```"
   ]
  },
  {
   "cell_type": "markdown",
   "id": "10366e19",
   "metadata": {},
   "source": [
    "压缩级别可以通过 compresslevel 指定，默认级别是 9"
   ]
  },
  {
   "cell_type": "markdown",
   "id": "82c0edbb",
   "metadata": {},
   "source": [
    "```python\n",
    "with gzip.open('somefile.gz', 'wt', compresslevel=5) as f:\n",
    "    f.write(text)\n",
    "```"
   ]
  },
  {
   "cell_type": "markdown",
   "id": "ec884181",
   "metadata": {},
   "source": [
    "gzip.open() 和 bz2.open() 能够对已经以二进制模式打开的文件进行叠加操作\n",
    "\n",
    "```python\n",
    "f = open('somefile.gz', 'rb')\n",
    "with gzip.open(f, 'rt') as g:\n",
    "    text = g.read()\n",
    "```"
   ]
  },
  {
   "cell_type": "markdown",
   "id": "a26f1b02",
   "metadata": {},
   "source": [
    "# 8. 对固定大小的记录进行迭代"
   ]
  },
  {
   "cell_type": "markdown",
   "id": "5b972b9c",
   "metadata": {},
   "source": [
    "使用 iter() 和 functools.partial() 对固定大小的记录或数据块进行迭代"
   ]
  },
  {
   "cell_type": "code",
   "execution_count": 21,
   "id": "d2e8dae7",
   "metadata": {},
   "outputs": [],
   "source": [
    "from functools import partial"
   ]
  },
  {
   "cell_type": "markdown",
   "id": "56082fd6",
   "metadata": {},
   "source": [
    "```python\n",
    "RECORD_SIZE = 32\n",
    "with open('somefile.data', 'rb') as f:\n",
    "    records = iter(partial(f.read, RECORD_SIZE), b'')\n",
    "    for r in records:\n",
    "        ...\n",
    "```"
   ]
  },
  {
   "cell_type": "markdown",
   "id": "d36e7042",
   "metadata": {},
   "source": [
    "records 对象可迭代，会产生固定大小的数据块直到达到文件末尾（如果文件大小不是记录大小的整数倍，最后的数据块较小）\n",
    "\n",
    "iter() 函数：如果传递一个可调用对象及一个哨兵值给它，可以创建一个迭代器。得到的迭代器会重复调用用户提供的可迭代对象，直到返回的值为哨兵值为止，此时迭代过程停止。b''在这里作哨兵值。\n",
    "\n",
    "二进制文件最常见为用 functools.partial 函数；文本文件按行读取更普遍"
   ]
  },
  {
   "cell_type": "markdown",
   "id": "9959993b",
   "metadata": {},
   "source": [
    "# 9. 将二进制数据读取到可变缓冲区中"
   ]
  },
  {
   "cell_type": "markdown",
   "id": "17902716",
   "metadata": {},
   "source": [
    "中间不经过任何拷贝环节，可以原地修改数据再写回文件中\n",
    "\n",
    "使用 readinto()"
   ]
  },
  {
   "cell_type": "code",
   "execution_count": 22,
   "id": "70bedd5e",
   "metadata": {},
   "outputs": [],
   "source": [
    "import os.path"
   ]
  },
  {
   "cell_type": "markdown",
   "id": "0d30c4ec",
   "metadata": {},
   "source": [
    "```python\n",
    "def read_into_buffer(filename):\n",
    "    buf = bytearray(os.path.getsize(filename))\n",
    "    with open(filename, 'rb') as f:\n",
    "        f.readinto(buf)\n",
    "    return buf\n",
    "```"
   ]
  },
  {
   "cell_type": "markdown",
   "id": "4c24fc79",
   "metadata": {},
   "source": [
    "readinto() 可以用来将数据填充到任何预分配好的数组中（包括 array 块或 numpy 创建的数组）\n",
    "\n",
    "readinto() 是为已存在的缓存区填充内容，而不是分配新的对象，可以避免产生额外的内存分配"
   ]
  },
  {
   "cell_type": "markdown",
   "id": "67e13354",
   "metadata": {},
   "source": [
    "内存映像（memoryview）可以对已存在的缓冲区做切片处理，中间不涉及任何的拷贝操作，可以修改它的内容"
   ]
  },
  {
   "cell_type": "code",
   "execution_count": 44,
   "id": "c706f725",
   "metadata": {},
   "outputs": [
    {
     "data": {
      "text/plain": [
       "<memory at 0x000002690641FF40>"
      ]
     },
     "execution_count": 44,
     "metadata": {},
     "output_type": "execute_result"
    }
   ],
   "source": [
    "buf = bytearray(b'Hello World')\n",
    "m1 = memoryview(buf)\n",
    "m2 = m1[-5:]\n",
    "m2"
   ]
  },
  {
   "cell_type": "markdown",
   "id": "aa76f4bf",
   "metadata": {},
   "source": [
    "使用 f.readinto() 需要检查它的返回值，即实际读取的字节数。如果字节数小于所提供的缓冲区大小，可能表示数据被截断或遭到了破坏"
   ]
  },
  {
   "cell_type": "markdown",
   "id": "50d3ab6d",
   "metadata": {},
   "source": [
    "# 10. 对二进制文件做内存映射"
   ]
  },
  {
   "cell_type": "markdown",
   "id": "b45e0c37",
   "metadata": {},
   "source": [
    "通过内存映射的方式将一个二进制文件加载到可变的字节数组中，可以随机访问其内容，或者实现就地修改\n",
    "\n",
    "使用 mmap 模块实现文件的内存映射"
   ]
  },
  {
   "cell_type": "code",
   "execution_count": 45,
   "id": "1ad2739b",
   "metadata": {},
   "outputs": [],
   "source": [
    "import os\n",
    "import mmap"
   ]
  },
  {
   "cell_type": "code",
   "execution_count": 46,
   "id": "09394abf",
   "metadata": {},
   "outputs": [],
   "source": [
    "def memory_map(filename, access=mmap.ACCESS_WRITE):\n",
    "    size = os.path.getsize(filename)\n",
    "    fd = os.open(filename, os.O_RDWR)\n",
    "    return mmap.mmap(fd, size, access=access)"
   ]
  },
  {
   "cell_type": "markdown",
   "id": "2b504da1",
   "metadata": {},
   "source": [
    "要使用这个函数，需要准备一个已经创建好的文件并为之填充一些数据"
   ]
  },
  {
   "cell_type": "markdown",
   "id": "3cae3833",
   "metadata": {},
   "source": [
    "```python\n",
    "size = 1000000\n",
    "with open('data', 'wb') as f:\n",
    "    f.seek(size-1)\n",
    "    f.write(b'\\x00')\n",
    "```"
   ]
  },
  {
   "cell_type": "code",
   "execution_count": 48,
   "id": "4ac367c0",
   "metadata": {},
   "outputs": [
    {
     "data": {
      "text/plain": [
       "1000000"
      ]
     },
     "execution_count": 48,
     "metadata": {},
     "output_type": "execute_result"
    }
   ],
   "source": [
    "m = memory_map('data')\n",
    "len(m)"
   ]
  },
  {
   "cell_type": "code",
   "execution_count": 49,
   "id": "04af5313",
   "metadata": {},
   "outputs": [
    {
     "name": "stdout",
     "output_type": "stream",
     "text": [
      "b'\\x00\\x00\\x00\\x00\\x00\\x00\\x00\\x00\\x00\\x00'\n",
      "0\n"
     ]
    }
   ],
   "source": [
    "print(m[0: 10])\n",
    "print(m[0])"
   ]
  },
  {
   "cell_type": "code",
   "execution_count": 50,
   "id": "f7a6d4e2",
   "metadata": {},
   "outputs": [],
   "source": [
    "m[0: 11] = b'Hello World'\n",
    "m.close()"
   ]
  },
  {
   "cell_type": "markdown",
   "id": "cbc3f15c",
   "metadata": {},
   "source": [
    "由 mmap() 返回的 mmap 对象也可以当做上下文管理器使用，在这种情况下，底层的文件会自动关闭"
   ]
  },
  {
   "cell_type": "code",
   "execution_count": 58,
   "id": "8715105e",
   "metadata": {},
   "outputs": [
    {
     "name": "stdout",
     "output_type": "stream",
     "text": [
      "b'Hello World'\n",
      "1000000\n",
      "b'Hello World'\n"
     ]
    }
   ],
   "source": [
    "with open('data', 'rb') as f:\n",
    "    print(f.read(11))\n",
    "with memory_map('data') as m:\n",
    "    print(len(m))\n",
    "    print(m[0: 11])"
   ]
  },
  {
   "cell_type": "code",
   "execution_count": 60,
   "id": "94bdaf66",
   "metadata": {},
   "outputs": [
    {
     "data": {
      "text/plain": [
       "True"
      ]
     },
     "execution_count": 60,
     "metadata": {},
     "output_type": "execute_result"
    }
   ],
   "source": [
    "m.closed"
   ]
  },
  {
   "cell_type": "markdown",
   "id": "629d1e27",
   "metadata": {},
   "source": [
    "默认情况下，memory_map() 打开的文件既可以读也可以写，对数据的任何修改都会拷贝回原始的文件中"
   ]
  },
  {
   "cell_type": "markdown",
   "id": "7da1943d",
   "metadata": {},
   "source": [
    "如果需要只读访问，可以为 access 参数提供 mmap.ACCESS_READ 值\n",
    "\n",
    "``\n",
    "m = memory_map(filename, mmap.ACCESS_READ)\n",
    "``\n",
    "\n",
    "如果只想在本地修改数据，并不想将这些修改写回到原始文件中，使用 mmap.ACCESS_COPY 参数\n",
    "\n",
    "``\n",
    "m = memory_map(filename, mmap.ACCESS_COPY)\n",
    "``"
   ]
  },
  {
   "cell_type": "markdown",
   "id": "c2148cfe",
   "metadata": {},
   "source": [
    "与其打开文件后通过各种组合的 seek(), read(), write() 调用来访问，不如简单地将文件映射到内存，然后通过切片操作来访问数据"
   ]
  },
  {
   "cell_type": "markdown",
   "id": "b4408927",
   "metadata": {},
   "source": [
    "利用 memoryview 能够以不同的方式来解读数据"
   ]
  },
  {
   "cell_type": "code",
   "execution_count": 62,
   "id": "448fa3cd",
   "metadata": {},
   "outputs": [
    {
     "data": {
      "text/plain": [
       "b'\\x07\\x00\\x00\\x00'"
      ]
     },
     "execution_count": 62,
     "metadata": {},
     "output_type": "execute_result"
    }
   ],
   "source": [
    "m = memory_map('data')\n",
    "v = memoryview(m).cast('I')\n",
    "v[0] = 7\n",
    "m[0: 4]"
   ]
  },
  {
   "cell_type": "code",
   "execution_count": 63,
   "id": "1644751f",
   "metadata": {},
   "outputs": [
    {
     "data": {
      "text/plain": [
       "263"
      ]
     },
     "execution_count": 63,
     "metadata": {},
     "output_type": "execute_result"
    }
   ],
   "source": [
    "m[0: 4] = b'\\x07\\x01\\x00\\x00'\n",
    "v[0]"
   ]
  },
  {
   "cell_type": "markdown",
   "id": "1cc225ee",
   "metadata": {},
   "source": [
    "对某个文件进行内存映射并不会导致将整个文件读到内存中，操作系统只为文件保存一段虚拟内存\n",
    "\n",
    "如果有多个 Python 解释器对同一个文件做了内存映射，得到的 mmap 对象可在解释器之间交换数据。有时可用这种方法作为通过管道或 socket 传输数据的代替方式"
   ]
  },
  {
   "cell_type": "markdown",
   "id": "5ba2accb",
   "metadata": {},
   "source": [
    "# 11. 处理路径名"
   ]
  },
  {
   "cell_type": "code",
   "execution_count": 64,
   "id": "5034421e",
   "metadata": {},
   "outputs": [],
   "source": [
    "import os"
   ]
  },
  {
   "cell_type": "code",
   "execution_count": 70,
   "id": "f5b1614d",
   "metadata": {},
   "outputs": [],
   "source": [
    "path = '/Users/zhenkai/data/data.csv'"
   ]
  },
  {
   "cell_type": "markdown",
   "id": "3af04bd6",
   "metadata": {},
   "source": [
    "路径的最后部分"
   ]
  },
  {
   "cell_type": "code",
   "execution_count": 71,
   "id": "adefb68f",
   "metadata": {},
   "outputs": [
    {
     "data": {
      "text/plain": [
       "'data.csv'"
      ]
     },
     "execution_count": 71,
     "metadata": {},
     "output_type": "execute_result"
    }
   ],
   "source": [
    "os.path.basename(path)"
   ]
  },
  {
   "cell_type": "markdown",
   "id": "ff221f8e",
   "metadata": {},
   "source": [
    "目录名（不包括最后的名字）"
   ]
  },
  {
   "cell_type": "code",
   "execution_count": 72,
   "id": "e8de17a1",
   "metadata": {},
   "outputs": [
    {
     "data": {
      "text/plain": [
       "'/Users/zhenkai/data'"
      ]
     },
     "execution_count": 72,
     "metadata": {},
     "output_type": "execute_result"
    }
   ],
   "source": [
    "os.path.dirname(path)"
   ]
  },
  {
   "cell_type": "markdown",
   "id": "c70dce0d",
   "metadata": {},
   "source": [
    "路径名合并"
   ]
  },
  {
   "cell_type": "code",
   "execution_count": 73,
   "id": "20c941f3",
   "metadata": {},
   "outputs": [
    {
     "data": {
      "text/plain": [
       "'tmp\\\\data\\\\data.csv'"
      ]
     },
     "execution_count": 73,
     "metadata": {},
     "output_type": "execute_result"
    }
   ],
   "source": [
    "os.path.join('tmp', 'data', os.path.basename(path))"
   ]
  },
  {
   "cell_type": "markdown",
   "id": "1a6bf2bd",
   "metadata": {},
   "source": [
    "用户名路径"
   ]
  },
  {
   "cell_type": "code",
   "execution_count": 76,
   "id": "54f31478",
   "metadata": {},
   "outputs": [
    {
     "data": {
      "text/plain": [
       "'C:\\\\Users\\\\gzk/Data/data.csv'"
      ]
     },
     "execution_count": 76,
     "metadata": {},
     "output_type": "execute_result"
    }
   ],
   "source": [
    "path = '~/Data/data.csv'\n",
    "os.path.expanduser(path)"
   ]
  },
  {
   "cell_type": "markdown",
   "id": "07f8e88e",
   "metadata": {},
   "source": [
    "路径分割"
   ]
  },
  {
   "cell_type": "code",
   "execution_count": 77,
   "id": "b3f91be8",
   "metadata": {},
   "outputs": [
    {
     "data": {
      "text/plain": [
       "('~/Data/data', '.csv')"
      ]
     },
     "execution_count": 77,
     "metadata": {},
     "output_type": "execute_result"
    }
   ],
   "source": [
    "os.path.splitext(path)"
   ]
  },
  {
   "cell_type": "markdown",
   "id": "e9fb7371",
   "metadata": {},
   "source": [
    "# 12. 检测文件是否存在"
   ]
  },
  {
   "cell_type": "code",
   "execution_count": 78,
   "id": "a47024d2",
   "metadata": {},
   "outputs": [],
   "source": [
    "import os"
   ]
  },
  {
   "cell_type": "markdown",
   "id": "4830e798",
   "metadata": {},
   "source": [
    "## 12.1 检测是否存在"
   ]
  },
  {
   "cell_type": "code",
   "execution_count": 79,
   "id": "c39f7a6d",
   "metadata": {},
   "outputs": [
    {
     "data": {
      "text/plain": [
       "False"
      ]
     },
     "execution_count": 79,
     "metadata": {},
     "output_type": "execute_result"
    }
   ],
   "source": [
    "os.path.exists('/etc/passwd')"
   ]
  },
  {
   "cell_type": "code",
   "execution_count": 82,
   "id": "78a5596b",
   "metadata": {},
   "outputs": [
    {
     "data": {
      "text/plain": [
       "True"
      ]
     },
     "execution_count": 82,
     "metadata": {},
     "output_type": "execute_result"
    }
   ],
   "source": [
    "os.path.exists('C:\\Windows')"
   ]
  },
  {
   "cell_type": "markdown",
   "id": "5e74fa21",
   "metadata": {},
   "source": [
    "## 12.2 检查文件类型\n",
    "\n",
    "- os.path.isfile()\n",
    "\n",
    "- os.path.isdir()\n",
    "\n",
    "- os.path.islink()  (symbolic link)\n",
    "\n",
    "- os.path.realpath()  (linked to)"
   ]
  },
  {
   "cell_type": "code",
   "execution_count": 85,
   "id": "2c04dbdb",
   "metadata": {},
   "outputs": [
    {
     "data": {
      "text/plain": [
       "False"
      ]
     },
     "execution_count": 85,
     "metadata": {},
     "output_type": "execute_result"
    }
   ],
   "source": [
    "os.path.isfile('C:\\Windows')"
   ]
  },
  {
   "cell_type": "code",
   "execution_count": 86,
   "id": "bb33ea39",
   "metadata": {},
   "outputs": [
    {
     "data": {
      "text/plain": [
       "False"
      ]
     },
     "execution_count": 86,
     "metadata": {},
     "output_type": "execute_result"
    }
   ],
   "source": [
    "os.path.isdir('C:\\Windows')"
   ]
  },
  {
   "cell_type": "markdown",
   "id": "2afa5dec",
   "metadata": {},
   "source": [
    "## 12.3 得到元数据（文件大小或修改日期）"
   ]
  },
  {
   "cell_type": "markdown",
   "id": "10a82461",
   "metadata": {},
   "source": [
    "获取元数据时，需注意权限问题"
   ]
  },
  {
   "cell_type": "markdown",
   "id": "3415690c",
   "metadata": {},
   "source": [
    "```python\n",
    "os.path.getsize('')\n",
    "os.path.gettime('')\n",
    "```"
   ]
  },
  {
   "cell_type": "markdown",
   "id": "a0c99d61",
   "metadata": {},
   "source": [
    "# 13. 获取目录内容的列表"
   ]
  },
  {
   "cell_type": "code",
   "execution_count": 90,
   "id": "e48b5de1",
   "metadata": {},
   "outputs": [],
   "source": [
    "import os"
   ]
  },
  {
   "cell_type": "markdown",
   "id": "7e538f44",
   "metadata": {},
   "source": [
    "```python\n",
    "names = os.listdir('somedir')\n",
    "```"
   ]
  },
  {
   "cell_type": "markdown",
   "id": "e813f79f",
   "metadata": {},
   "source": [
    "直接使用 listdir 会得到原始的目录文件列表，包括所有的文件、子目录、符号链接等\n",
    "\n",
    "使用 os.path 模块筛选数据"
   ]
  },
  {
   "cell_type": "markdown",
   "id": "8a523f0d",
   "metadata": {},
   "source": [
    "```python\n",
    "import os.path\n",
    "names = [name for name in os.listdir('somedir') if os.path.isfile(os.path.join('somedir', name))]\n",
    "dirnames = [name for name in os.listdir('somedir') if os.path.isdir(os.path.join('somedir', name))]\n",
    "pyfiles = [name for name in os.listdir('somedir') if name.endswith('.py')]\n",
    "```"
   ]
  },
  {
   "cell_type": "markdown",
   "id": "b8c82939",
   "metadata": {},
   "source": [
    "文件名的匹配，可以使用 glob 或 fnmatch 模块\n",
    "\n",
    "```python\n",
    "import glob\n",
    "pyfiles = glob.glob('somedir/*.py')\n",
    "```\n",
    "\n",
    "```python\n",
    "from fnmatch import fnmatch\n",
    "pyfiles = [name for name in os.listdir('somedir') if fnmatch(name, '*.py')]\n",
    "```"
   ]
  },
  {
   "cell_type": "markdown",
   "id": "c0639460",
   "metadata": {},
   "source": [
    "使用 os.stat() 函数得到一些附加的元数据，如文件大小、修订日期等\n",
    "\n",
    "```python\n",
    "import os\n",
    "import os.path\n",
    "import glob\n",
    "\n",
    "pyfiles = glob.glob('.*py')\n",
    "\n",
    "name_sz_date = [(name, os.path.getsize(name), os.path.getmtime(name)) for name, size, mtime in name_sz_date:\n",
    "    print(name, size, mtime)\n",
    "\n",
    "file_metadate = [(name, os.stat(name)) for name in pyfiles]\n",
    "for name, meta in file_matadate:\n",
    "    print(name, meta.st_size, meta.st_mtime)\n",
    "```"
   ]
  },
  {
   "cell_type": "markdown",
   "id": "68fd408d",
   "metadata": {},
   "source": [
    "一般来说，os.listdir() 函数返回的条目会根据系统默认的文件名编码方式进行解码，但特定条件下会遇到无法解码的文件名"
   ]
  },
  {
   "cell_type": "markdown",
   "id": "a47951a7",
   "metadata": {},
   "source": [
    "# 14. 绕过文件名编码"
   ]
  },
  {
   "cell_type": "markdown",
   "id": "8fcf0797",
   "metadata": {},
   "source": [
    "想要使用了原始文件名的文件执行 I/O 操作，这些文件名没有根据默认的文件名编码规则解码\n",
    "\n",
    "默认情况根据 sys.getfilesystemencoding() 返回的编码格式进行编码和解码"
   ]
  },
  {
   "cell_type": "code",
   "execution_count": 93,
   "id": "ad6a5f6c",
   "metadata": {},
   "outputs": [],
   "source": [
    "import sys"
   ]
  },
  {
   "cell_type": "code",
   "execution_count": 94,
   "id": "118b2a17",
   "metadata": {},
   "outputs": [
    {
     "data": {
      "text/plain": [
       "'utf-8'"
      ]
     },
     "execution_count": 94,
     "metadata": {},
     "output_type": "execute_result"
    }
   ],
   "source": [
    "sys.getfilesystemencoding()"
   ]
  },
  {
   "cell_type": "markdown",
   "id": "53d2a95d",
   "metadata": {},
   "source": [
    "使用原始字节串指定文件名，对文件名进行处理\n",
    "\n",
    "```python\n",
    "import os\n",
    "\n",
    "# unicode\n",
    "with open('somefile\\xf1o.txt', 'w') as f:\n",
    "    f.write('Spicy!')\n",
    "\n",
    "# directory listing (decode)\n",
    "os.listdir('.')\n",
    "\n",
    "# directory listing (raw)\n",
    "os.listdir(b'.')\n",
    "\n",
    "# open file with raw filename\n",
    "with open(b'somefile\\xcc\\x83o.txt') as f:\n",
    "    print(f.read())\n",
    "```"
   ]
  },
  {
   "cell_type": "markdown",
   "id": "4953671f",
   "metadata": {},
   "source": [
    "# 15. 打印无法解码的文件名"
   ]
  },
  {
   "cell_type": "markdown",
   "id": "3ac02908",
   "metadata": {},
   "source": [
    "当打印来路不明的文件名时，使用下面的方式避免错误\n",
    "\n",
    "```python\n",
    "def bad_filename(filename):\n",
    "    return repr(filename)[1: -1]\n",
    "\n",
    "try:\n",
    "    print(filename)\n",
    "except UnicodeEncodeError:\n",
    "    print(bad_filename(filename))\n",
    "```"
   ]
  },
  {
   "cell_type": "markdown",
   "id": "89f74f8d",
   "metadata": {},
   "source": [
    "Python 假设文件名都是根据 sys.getfilesystemencoding() 返回的编码方式进行编码，但有些文件系统不一定会强制执行这种编码约束\n",
    "\n",
    "执行 os.listdir() 等命令，错误的文件名会使 Python 陷入窘迫境地，Python 既不能直接丢弃错误的名字，又不能转换为合适的字符串。为了解决这一问题，Python 会在文件名中取出一个无法解码的字节值 \\xhh，将其映射为一个“代理编码（surrogate encoding）”中，代理编码由 Unicode 字符 \\udchh 表示"
   ]
  },
  {
   "cell_type": "markdown",
   "id": "67e118d2",
   "metadata": {},
   "source": [
    "可以以其他方式编码\n",
    "\n",
    "```python\n",
    "def bad_filename(filename):\n",
    "    temp = filename.encode(sys.getfilesystemencoding(), errors='surrogateescape')\n",
    "    return temp.decode('latin-1')\n",
    "```"
   ]
  },
  {
   "cell_type": "markdown",
   "id": "8b7f47d3",
   "metadata": {},
   "source": [
    "# 16. 为已打开的文件添加或修改编码方式"
   ]
  },
  {
   "cell_type": "markdown",
   "id": "c4ad3179",
   "metadata": {},
   "source": [
    "为一个二进制模式打开的文件添加 Unicode 编码/解码，可以用io.TextIOWrapper() 对象将其包装\n",
    "\n",
    "```python\n",
    "import urllib.request\n",
    "import io\n",
    "\n",
    "u = urllib.request.urlopen('http://www.python.org')\n",
    "f = io.TextIOWrapper(u, encoding='utf-8')\n",
    "text = f.read()\n",
    "```"
   ]
  },
  {
   "cell_type": "markdown",
   "id": "01083c56",
   "metadata": {},
   "source": [
    "想要修改一个以文本模式打开的文件的编码方式，可以在用新的编码前，用 detach() 方法将已有的文本编码层移除\n",
    "\n",
    "```python\n",
    "import sys\n",
    "sys.stdout = io.TextIOWrapper(sys.stdout.detach(), encoding='latin-1')\n",
    "\n",
    "# 查看现在的编码方式\n",
    "sys.stdout.encoding\n",
    "```"
   ]
  },
  {
   "cell_type": "markdown",
   "id": "874da5fb",
   "metadata": {},
   "source": [
    "- io.TextIOWrapper 是一个文本处理层，负责编码和解码 Unicode\n",
    "- io.BufferedWriter 是一个缓冲 I/O 层，负责处理二进制数据\n",
    "- io.FileIO 是一个原始文件，代表操作系统底层的文件描述符\n",
    "\n",
    "添加或修改文本的编码涉及添加或修改 io.TextIOWrapper 层；无法直接通过访问上面的属性来操纵不同的层次\n",
    "\n",
    "detach() 方法将最上层的 io.TextIOWrapper 层同文件分离开来，并将下一个层次（io.BufferedWriter）返回。在这之后，最上层将不再起作用"
   ]
  },
  {
   "cell_type": "markdown",
   "id": "28a1f14a",
   "metadata": {},
   "source": [
    "# 17. 将字节数据写入文本文件"
   ]
  },
  {
   "cell_type": "markdown",
   "id": "16a0108d",
   "metadata": {},
   "source": [
    "```python\n",
    "import sys\n",
    "sys.stdout.buffer.write(b'Hello\\n')\n",
    "```"
   ]
  },
  {
   "cell_type": "markdown",
   "id": "66728633",
   "metadata": {},
   "source": [
    "# 18. 将已有的文件描述符包装为文件对象"
   ]
  },
  {
   "cell_type": "markdown",
   "id": "dca49c0e",
   "metadata": {},
   "source": [
    "文件描述符只是一个由操作系统分配的整数句柄，用来指代某种系统的 I/O 通道。如果刚好有一个这样的文件描述符，可以通过 open() 函数用 Python 文件对象对其进行包装，只需要将整数形式的文件描述符作为第一个参数取代文件名。\n",
    "\n",
    "```python\n",
    "import os\n",
    "\n",
    "fd = os.open('somefile.txt', os.O_WRONLY | os.O_CREAT)\n",
    "f = open(fd, 'wt')\n",
    "f.write('hello world\\n')\n",
    "f.close()\n",
    "```\n",
    "\n",
    "当高层文件对象被关闭或销毁时，底层的文件描述符也会被关闭。如果不想要这种行为，只需给 open() 提供一个可选的 closefd=False 参数即可\n",
    "\n",
    "```python\n",
    "f = open(fd, 'wt', closefd=False)\n",
    "```"
   ]
  },
  {
   "cell_type": "markdown",
   "id": "114c0ff6",
   "metadata": {},
   "source": [
    "在 UNIX 系统上，这种包装文件描述符的技术可以用来方便地对已不同方式打开的 I/O 通道（管道、socket 等）提供一个类似文件的接口。如果需要做到跨平台，应该直接使用 socket 的 makefile() 方法。"
   ]
  },
  {
   "cell_type": "markdown",
   "id": "5067cba2",
   "metadata": {},
   "source": [
    "可以为一个已经打开的文件创建一种别名，使它的工作方式可以区别于首次打开的样子。\n",
    "\n",
    "例如：创建一个文件对象，使它能够在 stdout 上产生出二进制数据（通常 stdout 是以文本模式打开的）\n",
    "\n",
    "```python\n",
    "import sys\n",
    "bstdout = open(sys.stdout.fileno(), 'wb', closefd=False)\n",
    "bstdout.write(b'Hello World\\n')\n",
    "bstdout.flush()\n",
    "```"
   ]
  },
  {
   "cell_type": "markdown",
   "id": "8d0c7c19",
   "metadata": {},
   "source": [
    "# 19. 创建临时文件和目录"
   ]
  },
  {
   "cell_type": "markdown",
   "id": "07d1d12b",
   "metadata": {},
   "source": [
    "创建一个未命名的临时文件\n",
    "\n",
    "```python\n",
    "from tempfile import TemporaryFile\n",
    "\n",
    "with TemporaryFile('w+t') as f:\n",
    "    # read/write\n",
    "    f.write('Hello World\\n')\n",
    "    f.write('Testing\\n')\n",
    "    \n",
    "    # seek back to begining\n",
    "    f.seek(0)\n",
    "    data = f.read()\n",
    "    \n",
    "# Temporary file is destroyed\n",
    "```\n",
    "\n",
    "或\n",
    "\n",
    "```python\n",
    "f = TemporaryFile('w+t')\n",
    "...\n",
    "f.close()\n",
    "```\n",
    "\n",
    "w+t 处理文本模式，w+b 处理二进制模式"
   ]
  },
  {
   "cell_type": "markdown",
   "id": "6a9f0bb9",
   "metadata": {},
   "source": [
    "TemporaryFile()可以接收和内建的 open() 函数一样的参数\n",
    "\n",
    "```python\n",
    "with TemporaryFile('w+t', encoding='utf-8', errors='ignore') as f:\n",
    "    ...\n",
    "```"
   ]
  },
  {
   "cell_type": "markdown",
   "id": "e7839946",
   "metadata": {},
   "source": [
    "在大多数 UNIX 系统中，TemporaryFile() 创建的文件都是未命名的，在目录中也没有对应的条目。如果想解除这种设置，可以使用NamedTemporaryFile()\n",
    "\n",
    "```python\n",
    "from tempfile import NamedTemporaryFile\n",
    "\n",
    "with NamedTemporaryFile('w+t') as f:\n",
    "    print('filename is:', f.name)\n",
    "    ...\n",
    "```"
   ]
  },
  {
   "cell_type": "markdown",
   "id": "5ea55047",
   "metadata": {},
   "source": [
    "使用 TemporaryFile()，结果文件会在关闭时自动删除，如果不想删除，可以提供一个 delete=False 关键字参数\n",
    "\n",
    "```python\n",
    "with NamedTemporaryFile('w+t', delete=False) as f:\n",
    "    print('filename is:', f.name)\n",
    "    ...\n",
    "```"
   ]
  },
  {
   "cell_type": "markdown",
   "id": "bc1bf3e7",
   "metadata": {},
   "source": [
    "创建一个临时目录\n",
    "\n",
    "```python\n",
    "from tempfile import TemporaryDirectory\n",
    "with TemporaryDirectory() as dirname:\n",
    "    print('dirname is:', dirname)\n",
    "    ...\n",
    "```"
   ]
  },
  {
   "cell_type": "markdown",
   "id": "4bd4721b",
   "metadata": {},
   "source": [
    "使用 mkstemp() 和 mkdtemp() 创建临时文件和目录，但这些函数不会进一步去处理文件管理的任务。例如，mkstemp() 只是简单地返回一个原始的操作系统文件描述符。转换为合适的文件和清理文件由我们自己完成"
   ]
  },
  {
   "cell_type": "code",
   "execution_count": 99,
   "id": "562fed28",
   "metadata": {},
   "outputs": [],
   "source": [
    "import tempfile"
   ]
  },
  {
   "cell_type": "code",
   "execution_count": 100,
   "id": "5b7e93d4",
   "metadata": {},
   "outputs": [
    {
     "data": {
      "text/plain": [
       "(19, 'C:\\\\Users\\\\gzk\\\\AppData\\\\Local\\\\Temp\\\\tmp6mw__xan')"
      ]
     },
     "execution_count": 100,
     "metadata": {},
     "output_type": "execute_result"
    }
   ],
   "source": [
    "tempfile.mkstemp()"
   ]
  },
  {
   "cell_type": "code",
   "execution_count": 101,
   "id": "61fe9644",
   "metadata": {},
   "outputs": [
    {
     "data": {
      "text/plain": [
       "'C:\\\\Users\\\\gzk\\\\AppData\\\\Local\\\\Temp\\\\tmph0466xv3'"
      ]
     },
     "execution_count": 101,
     "metadata": {},
     "output_type": "execute_result"
    }
   ],
   "source": [
    "tempfile.mkdtemp()"
   ]
  },
  {
   "cell_type": "markdown",
   "id": "fa1a161c",
   "metadata": {},
   "source": [
    "一般来说，临时文件都是在系统默认的区域中创建的，使用 tempfile.gettempdir() 找出实际位置"
   ]
  },
  {
   "cell_type": "code",
   "execution_count": 102,
   "id": "dc861042",
   "metadata": {},
   "outputs": [
    {
     "data": {
      "text/plain": [
       "'C:\\\\Users\\\\gzk\\\\AppData\\\\Local\\\\Temp'"
      ]
     },
     "execution_count": 102,
     "metadata": {},
     "output_type": "execute_result"
    }
   ],
   "source": [
    "tempfile.gettempdir()"
   ]
  },
  {
   "cell_type": "markdown",
   "id": "860dcec1",
   "metadata": {},
   "source": [
    "所有与临时文件有关的函数都可以使用 prefix, suffix, dir 等关键字参数\n",
    "\n",
    "```python\n",
    "f = NamedTemporaryFile(prefix='mytemp', suffix='.txt', dir='/tmp')\n",
    "f.name\n",
    "```"
   ]
  },
  {
   "cell_type": "markdown",
   "id": "3c01dfc9",
   "metadata": {},
   "source": [
    "# 20. 同串口通信"
   ]
  },
  {
   "cell_type": "markdown",
   "id": "f38e0313",
   "metadata": {},
   "source": [
    "使用 pySerial 包\n",
    "\n",
    "```python\n",
    "import serial\n",
    "\n",
    "ser = serial.Serial('/dev/tty.usbmodem641', baudrate=9600, bytesize=8, parity='N', stopbits=1)\n",
    "```\n",
    "\n",
    "在 Windows 中，可以使用数字代表通信端口，如：\"COM0\", \"COM1\"。一旦打开，可以通过 read(), readline(), write() 读写数据"
   ]
  },
  {
   "cell_type": "markdown",
   "id": "4b8b2f34",
   "metadata": {},
   "source": [
    "# 21. 序列化 Python 对象"
   ]
  },
  {
   "cell_type": "markdown",
   "id": "bee855f0",
   "metadata": {},
   "source": [
    "将 Python 对象序列化为字节流，就可以保存到文件中、存储到数据库中或通过网络连接传输"
   ]
  },
  {
   "cell_type": "markdown",
   "id": "c0139ac2",
   "metadata": {},
   "source": [
    "将某个对象转储到文件中\n",
    "\n",
    "```python\n",
    "import pickle\n",
    "\n",
    "data = ...\n",
    "f = open('somefiel', 'wb')\n",
    "pickle.dump(data, f)\n",
    "```\n",
    "\n",
    "将对象转储为字符串\n",
    "\n",
    "```python\n",
    "s = pickle.dumps(data)\n",
    "```\n",
    "\n",
    "从字节流中重新创建对象\n",
    "\n",
    "```python\n",
    "f = open('somefile', 'rb')\n",
    "data = pickle.load(f)\n",
    "```\n",
    "\n",
    "或\n",
    "\n",
    "```python\n",
    "data = pickle.loads(s)\n",
    "```"
   ]
  },
  {
   "cell_type": "markdown",
   "id": "09418642",
   "metadata": {},
   "source": [
    "序列化的数据中包含有每个对象的开始和结束以及有关对象类型的信息。对函数、类以及实例进行 pickle 处理，产生的数据只会对代码对象所关联的名称进行编码\n",
    "\n",
    "当对数据做反序列化处理时，会假设所需的源文件都是可用的。这会成为一个潜在的维护性问题，因为所有的机器都必须能够访问到相同的源代码。因此决不能对非受信任的数据使用 pickle.load()。\n",
    "\n",
    "对特定类型的对象无法进行 pickle 操作，这些对象一般都会涉及某种外部系统状态，比如打开的文件、打开的网络连接、线程、进程、栈帧等。用户自定义的类有时可通过提供 ``__getstate__()`` 和 ``__setstate__()`` 方法规避这些规则\n",
    "\n",
    "对于大型的数据结构，如由 array 模块或 numpy 库创建的二进制数组，pickle 就不是一个特别高效的编码了，如果需要移动大量的数组型数据，最好将数据保存在文件中\n",
    "\n",
    "由于 pickle 是 Python 的专有特性，且同源代码关联紧密，所以不应该把 pickle 作为长期存储的格式"
   ]
  },
  {
   "cell_type": "markdown",
   "id": "5c22711a",
   "metadata": {},
   "source": [
    "下面这个类在内部定义了一个线程，但仍然可以进行 pickle/unpickle 操作\n",
    "\n",
    "```python\n",
    "import time\n",
    "import threading\n",
    "\n",
    "class Countdown:\n",
    "    def __init__(self, n):\n",
    "        self.n = n\n",
    "        self.thr = threading.Thread(target=self.run)\n",
    "        self.thr.daemon = True\n",
    "        self.thr.start()\n",
    "    \n",
    "    def run(self):\n",
    "        while self.n > 0:\n",
    "            print('T-minus', self.n)\n",
    "            self.n -= 1\n",
    "            time.sleep(5)\n",
    "       \n",
    "    def __getstate__(self):\n",
    "        return self.n\n",
    "    \n",
    "    def __setstate__(self, n):\n",
    "        self.__init__(n)\n",
    "```"
   ]
  }
 ],
 "metadata": {
  "celltoolbar": "原始单元格格式",
  "kernelspec": {
   "display_name": "base_env",
   "language": "python",
   "name": "base_env"
  },
  "language_info": {
   "codemirror_mode": {
    "name": "ipython",
    "version": 3
   },
   "file_extension": ".py",
   "mimetype": "text/x-python",
   "name": "python",
   "nbconvert_exporter": "python",
   "pygments_lexer": "ipython3",
   "version": "3.10.9"
  }
 },
 "nbformat": 4,
 "nbformat_minor": 5
}
