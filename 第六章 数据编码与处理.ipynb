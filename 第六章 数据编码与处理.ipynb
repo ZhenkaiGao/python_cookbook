{
 "cells": [
  {
   "cell_type": "markdown",
   "id": "1c219773",
   "metadata": {},
   "source": [
    "# 1. 读写 CSV 数据"
   ]
  },
  {
   "cell_type": "markdown",
   "id": "f5cbcedb",
   "metadata": {},
   "source": [
    "将数据读取为元组序列\n",
    "\n",
    "```python\n",
    "import csv\n",
    "\n",
    "with open('stocks.csv') as f:\n",
    "    f_csv = csv.reader(f)\n",
    "    headers = next(f_csv)\n",
    "    \n",
    "    for row in f_csv:\n",
    "        # process row\n",
    "        ...\n",
    "```"
   ]
  },
  {
   "cell_type": "markdown",
   "id": "70fa9fd0",
   "metadata": {},
   "source": [
    "元组命名，只在每一列的标头都是合法的 Python 标识符时才起作用\n",
    "\n",
    "```python\n",
    "from collections import namedtuple\n",
    "\n",
    "with open('stock.csv') as f:\n",
    "    f_csv = csv.reader(f)\n",
    "    headings = next(f_csv)\n",
    "    Row = namedtuple('Row', headings)\n",
    "    for r in f_csv:\n",
    "        row = Row(*r)\n",
    "        # process row\n",
    "        ...\n",
    "```"
   ]
  },
  {
   "cell_type": "markdown",
   "id": "538d2cc0",
   "metadata": {},
   "source": [
    "将数据读取为字典序列\n",
    "\n",
    "```python\n",
    "import csv\n",
    "\n",
    "with open('stocks.csv') as f:\n",
    "    f_csv = csv.DictReader(f)\n",
    "    for row in f_csv:\n",
    "        # process row\n",
    "        ...\n",
    "```"
   ]
  },
  {
   "cell_type": "markdown",
   "id": "6e6403fd",
   "metadata": {},
   "source": [
    "写入对象\n",
    "\n",
    "```python\n",
    "with open('stocks.csv', 'w') as f:\n",
    "    f_csv = csv.writer(f)\n",
    "    f_csv.writerow(headers)\n",
    "    f_csv.writerows(rows)\n",
    "```\n",
    "\n",
    "如果是字典\n",
    "\n",
    "```python\n",
    "with open('stocks.csv', 'w') as f:\n",
    "    f_csv = csv.DictWriter(f, headers)\n",
    "    f_csv.writeheader()\n",
    "    f_csv.writerows(rows)\n",
    "```"
   ]
  },
  {
   "cell_type": "markdown",
   "id": "f7b4674e",
   "metadata": {},
   "source": [
    "csv 库能识别微软 Excel 所采用的 CSV 编码规则，但可以有几种方法将编码调整为其他的格式\n",
    "\n",
    "如果想要读取以 tab 键分隔的数据\n",
    "\n",
    "```python\n",
    "with open('stock.tsv') as f:\n",
    "    f_tsv = csv.reader(f, delimiter='\\t')\n",
    "    for row in f_tsv:\n",
    "        # process row\n",
    "        ...\n",
    "```"
   ]
  },
  {
   "cell_type": "markdown",
   "id": "55dc3944",
   "metadata": {},
   "source": [
    "如果正在读取 CSV 数据并将其转换为命名数组，其中某个 CSV 文件中标题行中包含有非法的标识符字符，会使得创建命名元组的代码出现异常。要解决这个问题，应该首先整理标题，例如，对非法的标识符字符进行正则替换\n",
    "\n",
    "```python\n",
    "import re\n",
    "\n",
    "with open('stock.csv') as f:\n",
    "    f_csv = csv.reader(f)\n",
    "    headers = [re.sub('[a-zA-z_]', '_', h) for h in next(f_csv)]\n",
    "    Row = namedtuple('Row', headers)\n",
    "    for r in f_csv:\n",
    "        row = Row(*r)\n",
    "        # process row\n",
    "        ...\n",
    "```"
   ]
  },
  {
   "cell_type": "markdown",
   "id": "cb22bad4",
   "metadata": {},
   "source": [
    "csv 不会解释数据或将数据转换为除字符串外的类型。需要自行转换\n",
    "\n",
    "```python\n",
    "col_types = [str, float, str, str, float, int]\n",
    "with open('stocks.csv') as f:\n",
    "    f_csv = csv.reader(f)\n",
    "    headers = next(f_csv)\n",
    "    for row in f_csv:\n",
    "        row = tuple(convert(value) for convert, value in zip(col_types, row))\n",
    "        ...\n",
    "```"
   ]
  },
  {
   "cell_type": "markdown",
   "id": "e9f6498e",
   "metadata": {},
   "source": [
    "将选中的字段转换为字典\n",
    "\n",
    "```python\n",
    "print('Reading as dicts with type conversion')\n",
    "field_types = [('Price', float), ('Change', float), ('Volume', int)]\n",
    "\n",
    "with open('stock.csv') as f:\n",
    "    for row in csv.DictReader(f):\n",
    "        row.update((key, conversion(row[key])) for key, conversion in field_types)\n",
    "        print(row)\n",
    "```"
   ]
  },
  {
   "cell_type": "markdown",
   "id": "c2746339",
   "metadata": {},
   "source": [
    "# 2. 读取 JSON (JavaScript Object Notation) 格式的数据"
   ]
  },
  {
   "cell_type": "markdown",
   "id": "e672d240",
   "metadata": {},
   "source": [
    "## 2.1 Python 与 JSON 数据结构转换"
   ]
  },
  {
   "cell_type": "markdown",
   "id": "0b6365d8",
   "metadata": {},
   "source": [
    "将 Python 数据结构转换为 JSON"
   ]
  },
  {
   "cell_type": "code",
   "execution_count": 3,
   "id": "217586df",
   "metadata": {},
   "outputs": [
    {
     "data": {
      "text/plain": [
       "'{\"name\": \"ACME\", \"shares\": 100, \"price\": 542.23}'"
      ]
     },
     "execution_count": 3,
     "metadata": {},
     "output_type": "execute_result"
    }
   ],
   "source": [
    "import json\n",
    "\n",
    "data = {'name': 'ACME', 'shares': 100, 'price': 542.23}\n",
    "json_str = json.dumps(data)\n",
    "json_str"
   ]
  },
  {
   "cell_type": "markdown",
   "id": "a91034b0",
   "metadata": {},
   "source": [
    "将 JSON 字符串转换为 Python 数据结构"
   ]
  },
  {
   "cell_type": "code",
   "execution_count": 4,
   "id": "e8111766",
   "metadata": {},
   "outputs": [
    {
     "data": {
      "text/plain": [
       "{'name': 'ACME', 'shares': 100, 'price': 542.23}"
      ]
     },
     "execution_count": 4,
     "metadata": {},
     "output_type": "execute_result"
    }
   ],
   "source": [
    "data = json.loads(json_str)\n",
    "data"
   ]
  },
  {
   "cell_type": "markdown",
   "id": "246627b0",
   "metadata": {},
   "source": [
    "## 2.2 文件编码和解码"
   ]
  },
  {
   "cell_type": "markdown",
   "id": "71841604",
   "metadata": {},
   "source": [
    "对于文件，可以使用 json.dump() 和 json.load() 编码和解码\n",
    "\n",
    "```python\n",
    "with open('data.json', 'w') as f:\n",
    "    json.dump(data, f)\n",
    "    \n",
    "with open('data.json', 'r') as f:\n",
    "    data = json.load(f)\n",
    "```"
   ]
  },
  {
   "cell_type": "markdown",
   "id": "7fdc19db",
   "metadata": {},
   "source": [
    "JSON 支持 None, bool, int, float, str, 以及列表、元组、字典。对于字典，JSON 会假设键（key）是字符串（字典中的任何非字符串键都会在编码时转换为字符串）。JSON 与 Python 相比，语法几乎一直，但会将 True 映射为 true，False 映射为 false，None 被映射为 null。"
   ]
  },
  {
   "cell_type": "markdown",
   "id": "2ef0a286",
   "metadata": {},
   "source": [
    "要检查从 JSON 中解码得到的数据，仅将其打印出来确定数据的结构是比较困难的，需要用到 pprint 的 pprint()，把键按照字母顺序排列，并将字典以更加合理的方式输出"
   ]
  },
  {
   "cell_type": "markdown",
   "id": "1b5e89dd",
   "metadata": {},
   "source": [
    "```python\n",
    "from urllib.request import urlopen\n",
    "import json\n",
    "from pprint import pprint\n",
    "\n",
    "u = urlopen('http://search.twitter.com/search.json?q=python&rpp=5')\n",
    "resp = json.loads(u.read().decode('utf-8'))\n",
    "\n",
    "pprint(resp)\n",
    "```"
   ]
  },
  {
   "cell_type": "markdown",
   "id": "5c84bc87",
   "metadata": {},
   "source": [
    "JSON 解码时会从所提供的数据中创建出字典或列表，如果想创建其他类的对象，可以为 json.loads() 方法提供 object_pairs_hook 或 object_hook 参数。例如将 JSON 数据解码为 OrderedDict（有序词典），保持数据顺序不变"
   ]
  },
  {
   "cell_type": "code",
   "execution_count": 10,
   "id": "05a9ff06",
   "metadata": {},
   "outputs": [
    {
     "data": {
      "text/plain": [
       "OrderedDict([('name', 'ACME'), ('shares', 50), ('price', 490.1)])"
      ]
     },
     "execution_count": 10,
     "metadata": {},
     "output_type": "execute_result"
    }
   ],
   "source": [
    "s = '{\"name\": \"ACME\", \"shares\": 50, \"price\": 490.1}'\n",
    "from collections import OrderedDict\n",
    "data = json.loads(s, object_pairs_hook=OrderedDict)\n",
    "data"
   ]
  },
  {
   "cell_type": "markdown",
   "id": "9d712134",
   "metadata": {},
   "source": [
    "将 JSON 字典转变为 Python 对象\n",
    "\n",
    "通过解码 JSON 数据而创建的字典作为单独的参数传递给了 ``__init__()``"
   ]
  },
  {
   "cell_type": "code",
   "execution_count": 12,
   "id": "a2ca4ef9",
   "metadata": {},
   "outputs": [
    {
     "name": "stdout",
     "output_type": "stream",
     "text": [
      "ACME\n",
      "50\n",
      "490.1\n"
     ]
    }
   ],
   "source": [
    "class JSONObject:\n",
    "    def __init__(self, d):\n",
    "        self.__dict__  = d\n",
    "        \n",
    "data = json.loads(s, object_hook=JSONObject)\n",
    "\n",
    "print(data.name)\n",
    "print(data.shares)\n",
    "print(data.price)"
   ]
  },
  {
   "cell_type": "markdown",
   "id": "d3e309f0",
   "metadata": {},
   "source": [
    "如果在输出中对键进行排序处理，可以使用 sort_keys 参数"
   ]
  },
  {
   "cell_type": "markdown",
   "id": "b832a100",
   "metadata": {},
   "source": [
    "如果想让输出的格式变得漂亮一些，可以使用 json.dumps() 中的 indent 参数"
   ]
  },
  {
   "cell_type": "code",
   "execution_count": 16,
   "id": "5067edcf",
   "metadata": {},
   "outputs": [],
   "source": [
    "data = json.loads(s, object_pairs_hook=OrderedDict)"
   ]
  },
  {
   "cell_type": "code",
   "execution_count": 17,
   "id": "608b1163",
   "metadata": {},
   "outputs": [
    {
     "name": "stdout",
     "output_type": "stream",
     "text": [
      "{\"name\": \"ACME\", \"shares\": 50, \"price\": 490.1}\n"
     ]
    }
   ],
   "source": [
    "print(json.dumps(data))"
   ]
  },
  {
   "cell_type": "code",
   "execution_count": 19,
   "id": "11913d9f",
   "metadata": {},
   "outputs": [
    {
     "name": "stdout",
     "output_type": "stream",
     "text": [
      "{\n",
      "    \"name\": \"ACME\",\n",
      "    \"shares\": 50,\n",
      "    \"price\": 490.1\n",
      "}\n"
     ]
    }
   ],
   "source": [
    "print(json.dumps(data, indent=4))"
   ]
  },
  {
   "cell_type": "markdown",
   "id": "a8ced131",
   "metadata": {},
   "source": [
    "想在输出中进行排序处理"
   ]
  },
  {
   "cell_type": "code",
   "execution_count": 18,
   "id": "9667861e",
   "metadata": {},
   "outputs": [
    {
     "name": "stdout",
     "output_type": "stream",
     "text": [
      "{\"name\": \"ACME\", \"price\": 490.1, \"shares\": 50}\n"
     ]
    }
   ],
   "source": [
    "print(json.dumps(data, sort_keys=True))"
   ]
  },
  {
   "cell_type": "markdown",
   "id": "19bee4a5",
   "metadata": {},
   "source": [
    "## 2.3 类实例"
   ]
  },
  {
   "cell_type": "markdown",
   "id": "fb1b44aa",
   "metadata": {},
   "source": [
    "类实例一般无法序列化为 JSON，如果想序列化类实例，可以提供一个函数将类实例作为输入并返回一个可以被序列化的字典\n",
    "\n",
    "```python\n",
    "def serialize_instance(obj):\n",
    "    d = {'__classname__': type(obj).__name__}\n",
    "    d.update(vars(obj))\n",
    "    return d\n",
    "```\n",
    "\n",
    "如果想取回一个实例\n",
    "\n",
    "```python\n",
    "# 字典映射名为 known classes\n",
    "classes = {\n",
    "    'Point': Point\n",
    "}\n",
    "\n",
    "def unserialize_object(d):\n",
    "    clsname = d.pop('__classname__', None)\n",
    "    if clsname:\n",
    "        cls = classes[clsname]\n",
    "        obj = cls.__new__(cls)\n",
    "        for key, value in d.items():\n",
    "            setattr(obj, key, value)\n",
    "            return obj\n",
    "    else:\n",
    "        return d\n",
    "```"
   ]
  },
  {
   "cell_type": "markdown",
   "id": "7819704e",
   "metadata": {},
   "source": [
    "# 3. 解析简单的 XML(Extensible Markup Language，可扩展标记语言) 文档"
   ]
  },
  {
   "cell_type": "markdown",
   "id": "0e6b25aa",
   "metadata": {},
   "source": [
    "从一个 XML 文档中提取数据\n",
    "\n",
    "假设对 Planet Python (http://planet.python.org) 上的 RSS 订阅做解析并生成一个总结报告"
   ]
  },
  {
   "cell_type": "code",
   "execution_count": 4,
   "id": "f0191c21",
   "metadata": {},
   "outputs": [
    {
     "name": "stdout",
     "output_type": "stream",
     "text": [
      "Stack Abuse: The 'u' and 'r' String Prefixes and Raw String Literals in Python\n",
      "Sat, 09 Sep 2023 16:05:00 +0000\n",
      "https://stackabuse.com/the-u-and-r-string-prefixes-and-raw-string-literals-in-python/\n",
      "\n",
      "Stack Abuse: When to Use Shebangs in Python Scripts\n",
      "Sat, 09 Sep 2023 14:12:00 +0000\n",
      "https://stackabuse.com/when-to-use-shebangs-in-python-scripts/\n",
      "\n",
      "Stack Abuse: Importing Multiple CSV Files into a Single DataFrame using Pandas in Python\n",
      "Fri, 08 Sep 2023 21:09:59 +0000\n",
      "https://stackabuse.com/importing-multiple-csv-files-into-a-single-dataframe-using-pandas-in-python/\n",
      "\n",
      "Stack Abuse: Determining the Size of an Object in Python\n",
      "Fri, 08 Sep 2023 17:21:44 +0000\n",
      "https://stackabuse.com/determining-the-size-of-an-object-in-python/\n",
      "\n",
      "Python Engineering at Microsoft: Python in Visual Studio Code – September 2023 Release\n",
      "Fri, 08 Sep 2023 15:43:10 +0000\n",
      "https://devblogs.microsoft.com/python/python-in-visual-studio-code-september-2023-release/\n",
      "\n",
      "Mike Driscoll: How to Validate an IP Address in Python\n",
      "Fri, 08 Sep 2023 13:16:35 +0000\n",
      "https://www.blog.pythonlibrary.org/2023/09/08/how-to-validate-an-ip-address-in-python/\n",
      "\n",
      "Real Python: The Real Python Podcast – Episode #171: Making Each Line of Code Efficient &amp; Python In Excel\n",
      "Fri, 08 Sep 2023 12:00:00 +0000\n",
      "https://realpython.com/podcasts/rpp/171/\n",
      "\n",
      "PyBites: Excel Embraces Python, Opening Doors to New Roles and How PDI Can Help\n",
      "Fri, 08 Sep 2023 11:09:47 +0000\n",
      "https://pybit.es/articles/excel-embraces-python-opening-doors-to-new-roles-and-how-pdi-can-help/\n",
      "\n",
      "EuroPython Society: EuroPython Society General Assembly 2023\n",
      "Fri, 08 Sep 2023 11:02:55 +0000\n",
      "https://www.europython-society.org/europython-society-general-assembly-2023/\n",
      "\n",
      "Stack Abuse: How to Copy Files in Python\n",
      "Thu, 07 Sep 2023 20:32:26 +0000\n",
      "https://stackabuse.com/how-to-copy-files-in-python/\n",
      "\n",
      "CodersLegacy: pythonw.exe Tutorial: Running Python Scripts Silently\n",
      "Thu, 07 Sep 2023 17:47:17 +0000\n",
      "https://coderslegacy.com/pythonw-exe-tutorial/\n",
      "\n",
      "Stack Abuse: Python: How to Specify a GitHub Repo in requirements.txt\n",
      "Thu, 07 Sep 2023 16:59:00 +0000\n",
      "https://stackabuse.com/python-how-to-specify-a-github-repo-in-requirements-txt/\n",
      "\n",
      "TechBeamers Python: Python Print() with Examples\n",
      "Thu, 07 Sep 2023 15:38:44 +0000\n",
      "https://www.techbeamers.com/python-print-with-examples/\n",
      "\n",
      "Stack Abuse: How to Update pip in a Virtual Environment\n",
      "Thu, 07 Sep 2023 15:18:00 +0000\n",
      "https://stackabuse.com/how-to-update-pip-in-a-virtual-environment/\n",
      "\n",
      "Daniel Roy Greenfeld: TIL: Poetry PyPI Project URLS\n",
      "Thu, 07 Sep 2023 13:37:38 +0000\n",
      "https://daniel.feldroy.com/posts/til-2023-09-peotry-pyproject-urls\n",
      "\n",
      "TechBeamers Python: String concatenation in Python Explained\n",
      "Thu, 07 Sep 2023 12:34:34 +0000\n",
      "https://www.techbeamers.com/string-concatenation-in-python/\n",
      "\n",
      "Matt Layman: SendGrid Inbound - Building SaaS with Python and Django #170\n",
      "Thu, 07 Sep 2023 00:00:00 +0000\n",
      "https://www.mattlayman.com/blog/2023/sendgrid-inbound-building-saas-with-python-and-django-170/\n",
      "\n",
      "Stack Abuse: Fixing \"ValueError: Truth Value of a Series is Ambiguous\" Error in Pandas\n",
      "Wed, 06 Sep 2023 21:05:00 +0000\n",
      "https://stackabuse.com/fixing-valueerror-truth-value-of-a-series-is-ambiguous-error-in-pandas/\n",
      "\n",
      "Daniel Roy Greenfeld: TIL: pytest with breakpoints\n",
      "Wed, 06 Sep 2023 15:45:00 +0000\n",
      "https://daniel.feldroy.com/posts/til-2023-09-pytest-with-breakpoints\n",
      "\n",
      "Django Weblog: Last call for DjangoCon US Hotel Reservations\n",
      "Wed, 06 Sep 2023 15:45:00 +0000\n",
      "https://www.djangoproject.com/weblog/2023/sep/06/last-call-for-djangocon-us-hotel-reservations/\n",
      "\n",
      "Stack Abuse: The 'b' Prefix in Python String Literals\n",
      "Wed, 06 Sep 2023 14:40:00 +0000\n",
      "https://stackabuse.com/the-b-prefix-in-python-string-literals/\n",
      "\n",
      "Real Python: Generate Beautiful QR Codes With Python\n",
      "Wed, 06 Sep 2023 14:00:00 +0000\n",
      "https://realpython.com/python-generate-qr-code/\n",
      "\n",
      "Stack Abuse: Using cla(), clf(), and close() to Clear a Plot in Matplotlib\n",
      "Wed, 06 Sep 2023 13:04:00 +0000\n",
      "https://stackabuse.com/using-cla-clf-and-close-to-clear-a-plot-in-matplotlib/\n",
      "\n",
      "Python Bytes: #351 A Python Empire (or MPIRE?)\n",
      "Wed, 06 Sep 2023 08:00:00 +0000\n",
      "https://pythonbytes.fm/episodes/show/351/a-python-empire-or-mpire\n",
      "\n",
      "Python Insider: Python 3.12.0 release candidate 2 now available\n",
      "Wed, 06 Sep 2023 07:05:37 +0000\n",
      "https://pythoninsider.blogspot.com/2023/09/python-3120-release-candidate-2-now.html\n",
      "\n"
     ]
    }
   ],
   "source": [
    "from urllib.request import urlopen\n",
    "from xml.etree.ElementTree import parse\n",
    "\n",
    "u = urlopen('http://planet.python.org/rss20.xml')\n",
    "doc = parse(u)\n",
    "\n",
    "for item in doc.iterfind('channel/item'):\n",
    "    title = item.findtext('title')\n",
    "    date = item.findtext('pubDate')\n",
    "    link = item.findtext('link')\n",
    "    \n",
    "    print(title)\n",
    "    print(date)\n",
    "    print(link)\n",
    "    print()"
   ]
  },
  {
   "cell_type": "markdown",
   "id": "92b34595",
   "metadata": {},
   "source": [
    "在许多情况下，XML 如果只是简单地用来保存数据，那么文档的结构是紧凑而直接的。xml.etree.ElementTree.parse() 将整个 XML 文档解析成一个文档对象。之后就可以使用 find(), iterfind(), findtext() 方法查询特定的 XML 元素。\n",
    "\n",
    "对于更加高级的应用，可以使用 lxml。lxml 运行起来迅速，还提供验证、XSLT、XPath 等功能。"
   ]
  },
  {
   "cell_type": "markdown",
   "id": "30c33f7c",
   "metadata": {},
   "source": [
    "# 4. 以增量的方式解析大型 XML 文件"
   ]
  },
  {
   "cell_type": "markdown",
   "id": "476a7933",
   "metadata": {},
   "source": [
    "从一个大型的 HTML 文档中提取数据，而且对内存的使用尽可能少，应该考虑使用迭代器和生成器\n",
    "\n",
    "```python\n",
    "from xml.etree.ElementTree import iterparse\n",
    "\n",
    "def parse_and_remove(filename, path):\n",
    "    path_parts = path.split('/')\n",
    "    doc = iterparse(filename, ('start', 'end'))\n",
    "    next(doc)\n",
    "    \n",
    "    tag_stack = []\n",
    "    elem_stack = []\n",
    "    for event, elem in doc:\n",
    "        if event == 'start':\n",
    "            tag_stack.append(elem.tag)\n",
    "            elem_stack.append(elem)\n",
    "        elif event == 'end':\n",
    "            if tag_stack == path_parts:\n",
    "                yield elem\n",
    "                elem_stack[-2].remove(elem)\n",
    "            try:\n",
    "                tag_stack.pop()\n",
    "                elem_stack.pop()\n",
    "            except IndexError:\n",
    "                pass\n",
    "```"
   ]
  },
  {
   "cell_type": "markdown",
   "id": "7f56677c",
   "metadata": {},
   "source": [
    "编写一个脚本根据坑洞的数量对邮政编码 (ZIP code) 进行排序\n",
    "\n",
    "```python\n",
    "from xml.etree.ElementTree import parse\n",
    "from collections import Counter\n",
    "\n",
    "potholes_by_zip = Counter()\n",
    "\n",
    "doc = parse('potholes.xml')\n",
    "for pothole in doc.iterfind('row/row'):\n",
    "    potholes_by_zip[pothole.findtext('zip')] += 1\n",
    "for zipcode, num in potholes_by_zip.most_common():\n",
    "    print(zipcode, num)\n",
    "```\n",
    "\n",
    "这个脚本将整个 XML 读取到内存后再解析，运行这个脚本要占用 450 MB 内存\n",
    "\n",
    "```python\n",
    "from collections import Counter\n",
    "potholes_by_zip = Counter()\n",
    "\n",
    "data = parse_and_remove('potholes.xml', 'row/row')\n",
    "for pothole in data:\n",
    "    potholes_by_zip[pothole.findtext('zip')] += 1\n",
    "\n",
    "for zipcode, num in potholes_by_zip.most_common():\n",
    "    print(zipcode, num)\n",
    "```\n",
    "\n",
    "运行这个代码只需要 7 MB 内存"
   ]
  },
  {
   "cell_type": "markdown",
   "id": "2788419f",
   "metadata": {},
   "source": [
    "iterparse()允许对 XML 文档做增量式处理，只需要提供文件名和一个事件列表。事件列表由一个或多个 start/end, start-ns/end-ns 组成。iterparse() 创建出的迭代器产出形式为 (event, elem) 的元组，event 是列出的事件，elem 是对应的 XML 元素\n",
    "\n",
    "当某个元素首次被创建但还没有填入其他数据时，会产生 start 事件，而 end 事件会在元素已经完成时产生。start-ns, end-ns 事件是用来处理 XML 命名空间声明的"
   ]
  },
  {
   "cell_type": "code",
   "execution_count": null,
   "id": "e249eb4b",
   "metadata": {},
   "outputs": [],
   "source": []
  }
 ],
 "metadata": {
  "kernelspec": {
   "display_name": "base_env",
   "language": "python",
   "name": "base_env"
  },
  "language_info": {
   "codemirror_mode": {
    "name": "ipython",
    "version": 3
   },
   "file_extension": ".py",
   "mimetype": "text/x-python",
   "name": "python",
   "nbconvert_exporter": "python",
   "pygments_lexer": "ipython3",
   "version": "3.10.9"
  }
 },
 "nbformat": 4,
 "nbformat_minor": 5
}
